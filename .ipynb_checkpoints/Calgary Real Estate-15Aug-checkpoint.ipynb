{
 "cells": [
  {
   "cell_type": "markdown",
   "metadata": {},
   "source": [
    "### Remax"
   ]
  },
  {
   "cell_type": "code",
   "execution_count": 3,
   "metadata": {},
   "outputs": [
    {
     "name": "stdout",
     "output_type": "stream",
     "text": [
      "Libraries imported!\n"
     ]
    }
   ],
   "source": [
    "import pandas as pd\n",
    "import numpy as np\n",
    "import requests\n",
    "from bs4 import BeautifulSoup\n",
    "import time\n",
    "from splinter import Browser\n",
    "import warnings\n",
    "warnings.filterwarnings('ignore')\n",
    "print('Libraries imported!')\n",
    "\n",
    "import pymongo\n",
    "from pymongo import MongoClient"
   ]
  },
  {
   "cell_type": "code",
   "execution_count": 2,
   "metadata": {},
   "outputs": [],
   "source": [
    "house_address = []\n",
    "house_details = []\n",
    "\n",
    "base_url = 'https://www.remax.ca/ab/calgary-real-estate?page='\n",
    "urls = [base_url + str(x) for x in range(1,2)]\n",
    "\n",
    "for url in urls:\n",
    "    \n",
    "    #browser.visit(url)\n",
    "    time.sleep(5)\n",
    "\n",
    "    # Parse HTML with Beautiful Soup\n",
    "    response = requests.get(url)\n",
    "    soup = BeautifulSoup(response.text, 'html.parser')\n",
    "\n",
    "    try:\n",
    "        addresses = soup.find_all('div', class_='left-content flex-one')\n",
    "        for address in addresses:\n",
    "            house_address.append(address.text)\n",
    "    except:\n",
    "        house_address.append('None')\n",
    "        \n",
    "    try:\n",
    "        details = soup.find_all('div', class_='property-details')\n",
    "        for detail in details:\n",
    "            house_details.append(detail.text)\n",
    "    except:\n",
    "        house_details.append('None')"
   ]
  },
  {
   "cell_type": "code",
   "execution_count": 4,
   "metadata": {},
   "outputs": [
    {
     "data": {
      "text/html": [
       "<div>\n",
       "<style scoped>\n",
       "    .dataframe tbody tr th:only-of-type {\n",
       "        vertical-align: middle;\n",
       "    }\n",
       "\n",
       "    .dataframe tbody tr th {\n",
       "        vertical-align: top;\n",
       "    }\n",
       "\n",
       "    .dataframe thead th {\n",
       "        text-align: right;\n",
       "    }\n",
       "</style>\n",
       "<table border=\"1\" class=\"dataframe\">\n",
       "  <thead>\n",
       "    <tr style=\"text-align: right;\">\n",
       "      <th></th>\n",
       "      <th>2</th>\n",
       "      <th>price</th>\n",
       "    </tr>\n",
       "  </thead>\n",
       "  <tbody>\n",
       "    <tr>\n",
       "      <th>0</th>\n",
       "      <td>9803 ELBOW DR SW, Calgary, AB, T2V 1M4</td>\n",
       "      <td>489900</td>\n",
       "    </tr>\n",
       "    <tr>\n",
       "      <th>1</th>\n",
       "      <td>101 - 3704 15A ST SW, Calgary, AB, T2T 4C3</td>\n",
       "      <td>319900</td>\n",
       "    </tr>\n",
       "    <tr>\n",
       "      <th>2</th>\n",
       "      <td>25 HARVEST GLEN WAY NE, Calgary, AB, T3K 4J2</td>\n",
       "      <td>399900</td>\n",
       "    </tr>\n",
       "    <tr>\n",
       "      <th>3</th>\n",
       "      <td>32 EVERGLEN GROVE SW, Calgary, AB, T2Y 4Z3</td>\n",
       "      <td>429500</td>\n",
       "    </tr>\n",
       "    <tr>\n",
       "      <th>4</th>\n",
       "      <td>416 THORNDALE RD NW, Calgary, AB, T2K 3C5</td>\n",
       "      <td>484900</td>\n",
       "    </tr>\n",
       "  </tbody>\n",
       "</table>\n",
       "</div>"
      ],
      "text/plain": [
       "                                              2   price\n",
       "0        9803 ELBOW DR SW, Calgary, AB, T2V 1M4  489900\n",
       "1    101 - 3704 15A ST SW, Calgary, AB, T2T 4C3  319900\n",
       "2  25 HARVEST GLEN WAY NE, Calgary, AB, T3K 4J2  399900\n",
       "3    32 EVERGLEN GROVE SW, Calgary, AB, T2Y 4Z3  429500\n",
       "4     416 THORNDALE RD NW, Calgary, AB, T2K 3C5  484900"
      ]
     },
     "execution_count": 4,
     "metadata": {},
     "output_type": "execute_result"
    }
   ],
   "source": [
    "address_df = pd.DataFrame(house_address)\n",
    "\n",
    "new_df = address_df[0].str.split(' ', 2, expand=True)\n",
    "new_df[\"price\"] = new_df[1].str.replace(\"$\", \"\")\n",
    "new_df[\"price\"] = new_df[\"price\"].str.replace(\",\", \"\")\n",
    "\n",
    "del new_df[0]\n",
    "del new_df[1]\n",
    "new_df.head()"
   ]
  },
  {
   "cell_type": "code",
   "execution_count": 5,
   "metadata": {},
   "outputs": [
    {
     "data": {
      "text/html": [
       "<div>\n",
       "<style scoped>\n",
       "    .dataframe tbody tr th:only-of-type {\n",
       "        vertical-align: middle;\n",
       "    }\n",
       "\n",
       "    .dataframe tbody tr th {\n",
       "        vertical-align: top;\n",
       "    }\n",
       "\n",
       "    .dataframe thead th {\n",
       "        text-align: right;\n",
       "    }\n",
       "</style>\n",
       "<table border=\"1\" class=\"dataframe\">\n",
       "  <thead>\n",
       "    <tr style=\"text-align: right;\">\n",
       "      <th></th>\n",
       "      <th>0</th>\n",
       "      <th>1</th>\n",
       "    </tr>\n",
       "  </thead>\n",
       "  <tbody>\n",
       "    <tr>\n",
       "      <th>0</th>\n",
       "      <td>9803 ELBOW DR SW</td>\n",
       "      <td>T2V 1M4</td>\n",
       "    </tr>\n",
       "    <tr>\n",
       "      <th>1</th>\n",
       "      <td>101 - 3704 15A ST SW</td>\n",
       "      <td>T2T 4C3</td>\n",
       "    </tr>\n",
       "    <tr>\n",
       "      <th>2</th>\n",
       "      <td>25 HARVEST GLEN WAY NE</td>\n",
       "      <td>T3K 4J2</td>\n",
       "    </tr>\n",
       "    <tr>\n",
       "      <th>3</th>\n",
       "      <td>32 EVERGLEN GROVE SW</td>\n",
       "      <td>T2Y 4Z3</td>\n",
       "    </tr>\n",
       "    <tr>\n",
       "      <th>4</th>\n",
       "      <td>416 THORNDALE RD NW</td>\n",
       "      <td>T2K 3C5</td>\n",
       "    </tr>\n",
       "  </tbody>\n",
       "</table>\n",
       "</div>"
      ],
      "text/plain": [
       "                        0        1\n",
       "0        9803 ELBOW DR SW  T2V 1M4\n",
       "1    101 - 3704 15A ST SW  T2T 4C3\n",
       "2  25 HARVEST GLEN WAY NE  T3K 4J2\n",
       "3    32 EVERGLEN GROVE SW  T2Y 4Z3\n",
       "4     416 THORNDALE RD NW  T2K 3C5"
      ]
     },
     "execution_count": 5,
     "metadata": {},
     "output_type": "execute_result"
    }
   ],
   "source": [
    "final_df = new_df[2].str.split(', Calgary, AB, ', expand=True)\n",
    "final_df.head()"
   ]
  },
  {
   "cell_type": "code",
   "execution_count": 6,
   "metadata": {},
   "outputs": [
    {
     "data": {
      "text/html": [
       "<div>\n",
       "<style scoped>\n",
       "    .dataframe tbody tr th:only-of-type {\n",
       "        vertical-align: middle;\n",
       "    }\n",
       "\n",
       "    .dataframe tbody tr th {\n",
       "        vertical-align: top;\n",
       "    }\n",
       "\n",
       "    .dataframe thead th {\n",
       "        text-align: right;\n",
       "    }\n",
       "</style>\n",
       "<table border=\"1\" class=\"dataframe\">\n",
       "  <thead>\n",
       "    <tr style=\"text-align: right;\">\n",
       "      <th></th>\n",
       "      <th>price</th>\n",
       "      <th>address</th>\n",
       "      <th>postal_code</th>\n",
       "    </tr>\n",
       "  </thead>\n",
       "  <tbody>\n",
       "    <tr>\n",
       "      <th>0</th>\n",
       "      <td>489900</td>\n",
       "      <td>9803 ELBOW DR SW</td>\n",
       "      <td>T2V 1M4</td>\n",
       "    </tr>\n",
       "    <tr>\n",
       "      <th>1</th>\n",
       "      <td>319900</td>\n",
       "      <td>101 - 3704 15A ST SW</td>\n",
       "      <td>T2T 4C3</td>\n",
       "    </tr>\n",
       "    <tr>\n",
       "      <th>2</th>\n",
       "      <td>399900</td>\n",
       "      <td>25 HARVEST GLEN WAY NE</td>\n",
       "      <td>T3K 4J2</td>\n",
       "    </tr>\n",
       "    <tr>\n",
       "      <th>3</th>\n",
       "      <td>429500</td>\n",
       "      <td>32 EVERGLEN GROVE SW</td>\n",
       "      <td>T2Y 4Z3</td>\n",
       "    </tr>\n",
       "    <tr>\n",
       "      <th>4</th>\n",
       "      <td>484900</td>\n",
       "      <td>416 THORNDALE RD NW</td>\n",
       "      <td>T2K 3C5</td>\n",
       "    </tr>\n",
       "  </tbody>\n",
       "</table>\n",
       "</div>"
      ],
      "text/plain": [
       "    price                 address postal_code\n",
       "0  489900        9803 ELBOW DR SW     T2V 1M4\n",
       "1  319900    101 - 3704 15A ST SW     T2T 4C3\n",
       "2  399900  25 HARVEST GLEN WAY NE     T3K 4J2\n",
       "3  429500    32 EVERGLEN GROVE SW     T2Y 4Z3\n",
       "4  484900     416 THORNDALE RD NW     T2K 3C5"
      ]
     },
     "execution_count": 6,
     "metadata": {},
     "output_type": "execute_result"
    }
   ],
   "source": [
    "df_add = pd.concat([new_df, final_df], axis=1)\n",
    "del df_add[2]\n",
    "df_add.columns = [\"price\", \"address\", \"postal_code\"]\n",
    "df_add.head()"
   ]
  },
  {
   "cell_type": "code",
   "execution_count": 7,
   "metadata": {},
   "outputs": [
    {
     "data": {
      "text/html": [
       "<div>\n",
       "<style scoped>\n",
       "    .dataframe tbody tr th:only-of-type {\n",
       "        vertical-align: middle;\n",
       "    }\n",
       "\n",
       "    .dataframe tbody tr th {\n",
       "        vertical-align: top;\n",
       "    }\n",
       "\n",
       "    .dataframe thead th {\n",
       "        text-align: right;\n",
       "    }\n",
       "</style>\n",
       "<table border=\"1\" class=\"dataframe\">\n",
       "  <thead>\n",
       "    <tr style=\"text-align: right;\">\n",
       "      <th></th>\n",
       "      <th>bedrooms</th>\n",
       "      <th>bath</th>\n",
       "      <th>property_type</th>\n",
       "    </tr>\n",
       "  </thead>\n",
       "  <tbody>\n",
       "    <tr>\n",
       "      <th>0</th>\n",
       "      <td>4 bed</td>\n",
       "      <td>2 bath</td>\n",
       "      <td>house</td>\n",
       "    </tr>\n",
       "    <tr>\n",
       "      <th>1</th>\n",
       "      <td>2 bed</td>\n",
       "      <td>1 + 1 bath</td>\n",
       "      <td>condo</td>\n",
       "    </tr>\n",
       "    <tr>\n",
       "      <th>2</th>\n",
       "      <td>3 bed</td>\n",
       "      <td>2 bath</td>\n",
       "      <td>house</td>\n",
       "    </tr>\n",
       "    <tr>\n",
       "      <th>3</th>\n",
       "      <td>3 bed</td>\n",
       "      <td>2 + 1 bath</td>\n",
       "      <td>house</td>\n",
       "    </tr>\n",
       "    <tr>\n",
       "      <th>4</th>\n",
       "      <td>3 bed</td>\n",
       "      <td>2 bath</td>\n",
       "      <td>house</td>\n",
       "    </tr>\n",
       "  </tbody>\n",
       "</table>\n",
       "</div>"
      ],
      "text/plain": [
       "  bedrooms        bath property_type\n",
       "0    4 bed      2 bath         house\n",
       "1    2 bed  1 + 1 bath         condo\n",
       "2    3 bed      2 bath         house\n",
       "3    3 bed  2 + 1 bath         house\n",
       "4    3 bed      2 bath         house"
      ]
     },
     "execution_count": 7,
     "metadata": {},
     "output_type": "execute_result"
    }
   ],
   "source": [
    "details = pd.DataFrame(house_details)\n",
    "\n",
    "details_df = details[0].str.split('|', expand=True)\n",
    "details_df\n",
    "\n",
    "del details_df[2]\n",
    "\n",
    "details_df.columns = [\"bedrooms\", \"bath\", \"property_type\"]\n",
    "details_df.head()"
   ]
  },
  {
   "cell_type": "code",
   "execution_count": 8,
   "metadata": {},
   "outputs": [
    {
     "data": {
      "text/html": [
       "<div>\n",
       "<style scoped>\n",
       "    .dataframe tbody tr th:only-of-type {\n",
       "        vertical-align: middle;\n",
       "    }\n",
       "\n",
       "    .dataframe tbody tr th {\n",
       "        vertical-align: top;\n",
       "    }\n",
       "\n",
       "    .dataframe thead th {\n",
       "        text-align: right;\n",
       "    }\n",
       "</style>\n",
       "<table border=\"1\" class=\"dataframe\">\n",
       "  <thead>\n",
       "    <tr style=\"text-align: right;\">\n",
       "      <th></th>\n",
       "      <th>price</th>\n",
       "      <th>address</th>\n",
       "      <th>postal_code</th>\n",
       "      <th>bedrooms</th>\n",
       "      <th>bath</th>\n",
       "      <th>property_type</th>\n",
       "    </tr>\n",
       "  </thead>\n",
       "  <tbody>\n",
       "    <tr>\n",
       "      <th>0</th>\n",
       "      <td>489900</td>\n",
       "      <td>9803 ELBOW DR SW</td>\n",
       "      <td>T2V 1M4</td>\n",
       "      <td>4 bed</td>\n",
       "      <td>2 bath</td>\n",
       "      <td>house</td>\n",
       "    </tr>\n",
       "    <tr>\n",
       "      <th>1</th>\n",
       "      <td>319900</td>\n",
       "      <td>101 - 3704 15A ST SW</td>\n",
       "      <td>T2T 4C3</td>\n",
       "      <td>2 bed</td>\n",
       "      <td>1 + 1 bath</td>\n",
       "      <td>condo</td>\n",
       "    </tr>\n",
       "    <tr>\n",
       "      <th>2</th>\n",
       "      <td>399900</td>\n",
       "      <td>25 HARVEST GLEN WAY NE</td>\n",
       "      <td>T3K 4J2</td>\n",
       "      <td>3 bed</td>\n",
       "      <td>2 bath</td>\n",
       "      <td>house</td>\n",
       "    </tr>\n",
       "    <tr>\n",
       "      <th>3</th>\n",
       "      <td>429500</td>\n",
       "      <td>32 EVERGLEN GROVE SW</td>\n",
       "      <td>T2Y 4Z3</td>\n",
       "      <td>3 bed</td>\n",
       "      <td>2 + 1 bath</td>\n",
       "      <td>house</td>\n",
       "    </tr>\n",
       "    <tr>\n",
       "      <th>4</th>\n",
       "      <td>484900</td>\n",
       "      <td>416 THORNDALE RD NW</td>\n",
       "      <td>T2K 3C5</td>\n",
       "      <td>3 bed</td>\n",
       "      <td>2 bath</td>\n",
       "      <td>house</td>\n",
       "    </tr>\n",
       "  </tbody>\n",
       "</table>\n",
       "</div>"
      ],
      "text/plain": [
       "    price                 address postal_code bedrooms        bath  \\\n",
       "0  489900        9803 ELBOW DR SW     T2V 1M4    4 bed      2 bath   \n",
       "1  319900    101 - 3704 15A ST SW     T2T 4C3    2 bed  1 + 1 bath   \n",
       "2  399900  25 HARVEST GLEN WAY NE     T3K 4J2    3 bed      2 bath   \n",
       "3  429500    32 EVERGLEN GROVE SW     T2Y 4Z3    3 bed  2 + 1 bath   \n",
       "4  484900     416 THORNDALE RD NW     T2K 3C5    3 bed      2 bath   \n",
       "\n",
       "  property_type  \n",
       "0         house  \n",
       "1         condo  \n",
       "2         house  \n",
       "3         house  \n",
       "4         house  "
      ]
     },
     "execution_count": 8,
     "metadata": {},
     "output_type": "execute_result"
    }
   ],
   "source": [
    "calgary_df = pd.concat([df_add, details_df], axis=1)\n",
    "calgary_df.head()"
   ]
  },
  {
   "cell_type": "code",
   "execution_count": 26,
   "metadata": {},
   "outputs": [],
   "source": [
    "# calgary_df.to_csv('calgary_df.csv', encoding=\"utf-8\")"
   ]
  },
  {
   "cell_type": "markdown",
   "metadata": {},
   "source": [
    "----------------"
   ]
  },
  {
   "cell_type": "markdown",
   "metadata": {},
   "source": [
    "### Walk Score"
   ]
  },
  {
   "cell_type": "code",
   "execution_count": 9,
   "metadata": {},
   "outputs": [],
   "source": [
    "post_code_list = []\n",
    "\n",
    "for i in calgary_df[\"postal_code\"]:\n",
    "    post_code_list.append(i)"
   ]
  },
  {
   "cell_type": "code",
   "execution_count": 10,
   "metadata": {},
   "outputs": [],
   "source": [
    "scores_walk = []\n",
    "scores_bike = []\n",
    "scores_transit = []\n",
    "\n",
    "for i in post_code_list:\n",
    "    postal_code = i.replace(\" \", \"%20\")\n",
    "    url_score = \"https://www.walkscore.com/score/\" + str(postal_code)\n",
    "\n",
    "    time.sleep(2)\n",
    "\n",
    "    # Parse HTML with Beautiful Soup\n",
    "    response = requests.get(url_score)\n",
    "    code_soup = BeautifulSoup(response.text, 'html.parser')\n",
    "\n",
    "    try:\n",
    "        if 'pp.walk.sc/badge/walk/score' in str(code_soup):\n",
    "            ws = str(code_soup).split('pp.walk.sc/badge/walk/score/')[1][:2].replace('.','')\n",
    "            scores_walk.append(ws)\n",
    "        else:\n",
    "            ws = 'N/A'\n",
    "            scores_walk.append(ws)\n",
    "        if 'pp.walk.sc/badge/bike/score' in str(code_soup):\n",
    "            bs = str(code_soup).split('pp.walk.sc/badge/bike/score/')[1][:2].replace('.','')\n",
    "            scores_bike.append(bs)\n",
    "        else:\n",
    "            bs = 'N/A'\n",
    "            scores_bike.append(bs)\n",
    "        if 'pp.walk.sc/badge/transit/score' in str(code_soup):\n",
    "            ts = str(code_soup).split('pp.walk.sc/badge/transit/score/')[1][:2].replace('.','')\n",
    "            scores_transit.append(ts)\n",
    "        else:\n",
    "            ts = 'N/A'\n",
    "            scores_transit.append(ts)\n",
    "    except:\n",
    "        ws = 'N/A'\n",
    "        scores_walk.append(ws)\n",
    "        bs = 'N/A'\n",
    "        scores_bike.append(bs)\n",
    "        ts = 'N/A'\n",
    "        scores_transit.append(ts)"
   ]
  },
  {
   "cell_type": "code",
   "execution_count": 11,
   "metadata": {},
   "outputs": [
    {
     "data": {
      "text/html": [
       "<div>\n",
       "<style scoped>\n",
       "    .dataframe tbody tr th:only-of-type {\n",
       "        vertical-align: middle;\n",
       "    }\n",
       "\n",
       "    .dataframe tbody tr th {\n",
       "        vertical-align: top;\n",
       "    }\n",
       "\n",
       "    .dataframe thead th {\n",
       "        text-align: right;\n",
       "    }\n",
       "</style>\n",
       "<table border=\"1\" class=\"dataframe\">\n",
       "  <thead>\n",
       "    <tr style=\"text-align: right;\">\n",
       "      <th></th>\n",
       "      <th>postal_code</th>\n",
       "      <th>walk_score</th>\n",
       "      <th>bike_score</th>\n",
       "      <th>transit_score</th>\n",
       "    </tr>\n",
       "  </thead>\n",
       "  <tbody>\n",
       "    <tr>\n",
       "      <th>0</th>\n",
       "      <td>T2V 1M4</td>\n",
       "      <td>58</td>\n",
       "      <td>61</td>\n",
       "      <td>55</td>\n",
       "    </tr>\n",
       "    <tr>\n",
       "      <th>1</th>\n",
       "      <td>T2T 4C3</td>\n",
       "      <td>53</td>\n",
       "      <td>81</td>\n",
       "      <td>42</td>\n",
       "    </tr>\n",
       "    <tr>\n",
       "      <th>2</th>\n",
       "      <td>T3K 4J2</td>\n",
       "      <td>19</td>\n",
       "      <td>59</td>\n",
       "      <td>38</td>\n",
       "    </tr>\n",
       "    <tr>\n",
       "      <th>3</th>\n",
       "      <td>T2Y 4Z3</td>\n",
       "      <td>6</td>\n",
       "      <td>30</td>\n",
       "      <td>31</td>\n",
       "    </tr>\n",
       "    <tr>\n",
       "      <th>4</th>\n",
       "      <td>T2K 3C5</td>\n",
       "      <td>61</td>\n",
       "      <td>81</td>\n",
       "      <td>53</td>\n",
       "    </tr>\n",
       "  </tbody>\n",
       "</table>\n",
       "</div>"
      ],
      "text/plain": [
       "  postal_code walk_score bike_score transit_score\n",
       "0     T2V 1M4         58         61            55\n",
       "1     T2T 4C3         53         81            42\n",
       "2     T3K 4J2         19         59            38\n",
       "3     T2Y 4Z3          6         30            31\n",
       "4     T2K 3C5         61         81            53"
      ]
     },
     "execution_count": 11,
     "metadata": {},
     "output_type": "execute_result"
    }
   ],
   "source": [
    "score_df_trans = {'postal_code':post_code_list, 'walk_score':scores_walk, 'bike_score':scores_bike, 'transit_score':scores_transit}\n",
    "score_df = pd.DataFrame(score_df_trans)\n",
    "score_df.head()"
   ]
  },
  {
   "cell_type": "code",
   "execution_count": 20,
   "metadata": {},
   "outputs": [],
   "source": [
    "# Make a connection\n",
    "conn = \"mongodb://localhost:27017\"\n",
    "\n",
    "# Making a Connection with MongoClient\n",
    "client = MongoClient(conn)\n",
    "\n",
    "# database\n",
    "db = client.realestate_db\n",
    "\n",
    "# collection\n",
    "# collection = db.realestate\n",
    "# collection = db.score"
   ]
  },
  {
   "cell_type": "code",
   "execution_count": 21,
   "metadata": {},
   "outputs": [
    {
     "data": {
      "text/plain": [
       "<pymongo.results.InsertManyResult at 0x7fee3b025460>"
      ]
     },
     "execution_count": 21,
     "metadata": {},
     "output_type": "execute_result"
    }
   ],
   "source": [
    "# data.reset_index(inplace=True)\n",
    "collection = db.calgary\n",
    "calgary_dict = calgary_df.to_dict(\"records\")\n",
    "collection.insert_many(calgary_dict)"
   ]
  },
  {
   "cell_type": "code",
   "execution_count": 22,
   "metadata": {},
   "outputs": [
    {
     "data": {
      "text/plain": [
       "<pymongo.results.InsertManyResult at 0x7fee3b481280>"
      ]
     },
     "execution_count": 22,
     "metadata": {},
     "output_type": "execute_result"
    }
   ],
   "source": [
    "collection = db.score\n",
    "score_dict = score_df.to_dict(\"records\")\n",
    "collection.insert_many(score_dict)"
   ]
  },
  {
   "cell_type": "code",
   "execution_count": null,
   "metadata": {},
   "outputs": [],
   "source": []
  }
 ],
 "metadata": {
  "kernelspec": {
   "display_name": "Python 3",
   "language": "python",
   "name": "python3"
  },
  "language_info": {
   "codemirror_mode": {
    "name": "ipython",
    "version": 3
   },
   "file_extension": ".py",
   "mimetype": "text/x-python",
   "name": "python",
   "nbconvert_exporter": "python",
   "pygments_lexer": "ipython3",
   "version": "3.7.6"
  }
 },
 "nbformat": 4,
 "nbformat_minor": 2
}
